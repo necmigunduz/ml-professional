{
  "nbformat": 4,
  "nbformat_minor": 0,
  "metadata": {
    "colab": {
      "provenance": [],
      "authorship_tag": "ABX9TyMjLtihcmLJSUHanMr++sTJ",
      "include_colab_link": true
    },
    "kernelspec": {
      "name": "python3",
      "display_name": "Python 3"
    },
    "language_info": {
      "name": "python"
    }
  },
  "cells": [
    {
      "cell_type": "markdown",
      "metadata": {
        "id": "view-in-github",
        "colab_type": "text"
      },
      "source": [
        "<a href=\"https://colab.research.google.com/github/necmigunduz/ml-professional/blob/main/ML_10_29_25.ipynb\" target=\"_parent\"><img src=\"https://colab.research.google.com/assets/colab-badge.svg\" alt=\"Open In Colab\"/></a>"
      ]
    },
    {
      "cell_type": "code",
      "source": [
        "# Variables"
      ],
      "metadata": {
        "id": "m0uHuhiPaxsC"
      },
      "execution_count": 3,
      "outputs": []
    },
    {
      "cell_type": "code",
      "execution_count": 1,
      "metadata": {
        "id": "vB-p5hh_oqM4"
      },
      "outputs": [],
      "source": [
        "x = 3"
      ]
    },
    {
      "cell_type": "code",
      "source": [
        "c = 2 + 4j"
      ],
      "metadata": {
        "id": "VLpZ9M1Ra1QA"
      },
      "execution_count": 4,
      "outputs": []
    },
    {
      "cell_type": "code",
      "source": [
        "d = \"Necmi\""
      ],
      "metadata": {
        "id": "a2JPN8cLbAXw"
      },
      "execution_count": 7,
      "outputs": []
    },
    {
      "cell_type": "code",
      "source": [
        "e = 4.5"
      ],
      "metadata": {
        "id": "OY6q9iLVbEkH"
      },
      "execution_count": 9,
      "outputs": []
    },
    {
      "cell_type": "markdown",
      "source": [],
      "metadata": {
        "id": "BGse-_UUdxMa"
      }
    },
    {
      "cell_type": "code",
      "source": [
        "names = [\"Ahmet\", \"Ayşe\", \"Hamdi\", \"Haydar\", \"Hayri\", \"İlke\", \"Cumhur\", \"Huriye\", \"Necmi\", \"Tina\", \"Niyazi\", \"Ömer\"]"
      ],
      "metadata": {
        "id": "bbnFKR1QckPJ"
      },
      "execution_count": 36,
      "outputs": []
    },
    {
      "cell_type": "code",
      "source": [
        "for name in names:\n",
        "    name = name.upper()\n",
        "    if name.startswith(\"A\" or \"E\" or \"I\" or \"İ\" or \"O\" or \"U\" or \"Ü\" or \"Ö\"):\n",
        "        print(name)"
      ],
      "metadata": {
        "colab": {
          "base_uri": "https://localhost:8080/"
        },
        "id": "_IK-2t5ycztK",
        "outputId": "22c1b797-829c-4f60-e726-bdb1704df591"
      },
      "execution_count": 43,
      "outputs": [
        {
          "output_type": "stream",
          "name": "stdout",
          "text": [
            "AHMET\n",
            "AYŞE\n"
          ]
        }
      ]
    },
    {
      "cell_type": "code",
      "source": [
        "%whos\n"
      ],
      "metadata": {
        "colab": {
          "base_uri": "https://localhost:8080/"
        },
        "id": "WHZtWyZyaJ8f",
        "outputId": "44466146-c9d2-400f-eefe-4679743ddcbb"
      },
      "execution_count": 17,
      "outputs": [
        {
          "output_type": "stream",
          "name": "stdout",
          "text": [
            "Variable   Type       Data/Info\n",
            "-------------------------------\n",
            "c          complex    (2+4j)\n",
            "d          str        Necmi\n",
            "e          float      4.5\n",
            "names      list       n=11\n",
            "x          int        3\n"
          ]
        }
      ]
    },
    {
      "cell_type": "code",
      "source": [
        "print(type(x))"
      ],
      "metadata": {
        "colab": {
          "base_uri": "https://localhost:8080/"
        },
        "id": "2lgTEpZFbJHo",
        "outputId": "4d252b45-dac1-4c56-c471-6215b0e62f10"
      },
      "execution_count": 14,
      "outputs": [
        {
          "output_type": "stream",
          "name": "stdout",
          "text": [
            "<class 'int'>\n"
          ]
        }
      ]
    },
    {
      "cell_type": "code",
      "source": [],
      "metadata": {
        "id": "nJhWDmp1bN2v"
      },
      "execution_count": null,
      "outputs": []
    }
  ]
}