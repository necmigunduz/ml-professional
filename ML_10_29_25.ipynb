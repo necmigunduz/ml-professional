{
  "nbformat": 4,
  "nbformat_minor": 0,
  "metadata": {
    "colab": {
      "provenance": [],
      "authorship_tag": "ABX9TyMKAuT1zgStRuUuyLCog8FM",
      "include_colab_link": true
    },
    "kernelspec": {
      "name": "python3",
      "display_name": "Python 3"
    },
    "language_info": {
      "name": "python"
    }
  },
  "cells": [
    {
      "cell_type": "markdown",
      "metadata": {
        "id": "view-in-github",
        "colab_type": "text"
      },
      "source": [
        "<a href=\"https://colab.research.google.com/github/necmigunduz/ml-professional/blob/main/ML_10_29_25.ipynb\" target=\"_parent\"><img src=\"https://colab.research.google.com/assets/colab-badge.svg\" alt=\"Open In Colab\"/></a>"
      ]
    },
    {
      "cell_type": "code",
      "source": [
        "# Variables"
      ],
      "metadata": {
        "id": "m0uHuhiPaxsC"
      },
      "execution_count": 1,
      "outputs": []
    },
    {
      "cell_type": "code",
      "execution_count": 2,
      "metadata": {
        "id": "vB-p5hh_oqM4"
      },
      "outputs": [],
      "source": [
        "x = 3"
      ]
    },
    {
      "cell_type": "code",
      "source": [
        "c = 2 + 4j"
      ],
      "metadata": {
        "id": "VLpZ9M1Ra1QA"
      },
      "execution_count": 3,
      "outputs": []
    },
    {
      "cell_type": "code",
      "source": [
        "d = \"Necmi\""
      ],
      "metadata": {
        "id": "a2JPN8cLbAXw"
      },
      "execution_count": 4,
      "outputs": []
    },
    {
      "cell_type": "code",
      "source": [
        "e = 4.5"
      ],
      "metadata": {
        "id": "OY6q9iLVbEkH"
      },
      "execution_count": 5,
      "outputs": []
    },
    {
      "cell_type": "markdown",
      "source": [],
      "metadata": {
        "id": "BGse-_UUdxMa"
      }
    },
    {
      "cell_type": "code",
      "source": [
        "names = [\"Ahmet\", \"Ayşe\", \"Hamdi\", \"Haydar\", \"Hayri\", \"İlke\", \"Cumhur\", \"Huriye\", \"Necmi\", \"Tina\", \"Niyazi\", \"Ömer\"]"
      ],
      "metadata": {
        "id": "bbnFKR1QckPJ"
      },
      "execution_count": 6,
      "outputs": []
    },
    {
      "cell_type": "code",
      "source": [
        "for name in names:\n",
        "    name = name.upper()\n",
        "    if name.startswith(\"A\" or \"E\" or \"I\" or \"İ\" or \"O\" or \"U\" or \"Ü\" or \"Ö\"):\n",
        "        print(name)"
      ],
      "metadata": {
        "colab": {
          "base_uri": "https://localhost:8080/"
        },
        "id": "_IK-2t5ycztK",
        "outputId": "8da99677-41eb-4fd6-b7a4-d058612e4364"
      },
      "execution_count": 7,
      "outputs": [
        {
          "output_type": "stream",
          "name": "stdout",
          "text": [
            "AHMET\n",
            "AYŞE\n"
          ]
        }
      ]
    },
    {
      "cell_type": "code",
      "source": [
        "%whos\n"
      ],
      "metadata": {
        "colab": {
          "base_uri": "https://localhost:8080/"
        },
        "id": "WHZtWyZyaJ8f",
        "outputId": "28469ced-4ce5-495f-bb25-fcdd2cdf3221"
      },
      "execution_count": 8,
      "outputs": [
        {
          "output_type": "stream",
          "name": "stdout",
          "text": [
            "Variable   Type       Data/Info\n",
            "-------------------------------\n",
            "c          complex    (2+4j)\n",
            "d          str        Necmi\n",
            "e          float      4.5\n",
            "name       str        ÖMER\n",
            "names      list       n=12\n",
            "x          int        3\n"
          ]
        }
      ]
    },
    {
      "cell_type": "code",
      "source": [
        "print(type(x))"
      ],
      "metadata": {
        "colab": {
          "base_uri": "https://localhost:8080/"
        },
        "id": "2lgTEpZFbJHo",
        "outputId": "24782b74-1cd4-426e-b0df-58977354123c"
      },
      "execution_count": 9,
      "outputs": [
        {
          "output_type": "stream",
          "name": "stdout",
          "text": [
            "<class 'int'>\n"
          ]
        }
      ]
    },
    {
      "cell_type": "code",
      "source": [
        "def average(nums):\n",
        "  # nums should be an array\n",
        "  sum = 0\n",
        "  for num in nums:\n",
        "    sum += num\n",
        "  return sum / len(nums)\n"
      ],
      "metadata": {
        "id": "nJhWDmp1bN2v"
      },
      "execution_count": 10,
      "outputs": []
    },
    {
      "cell_type": "code",
      "source": [
        "average([9,1,2,4,1])"
      ],
      "metadata": {
        "colab": {
          "base_uri": "https://localhost:8080/"
        },
        "id": "zqOu97TqSI3M",
        "outputId": "2944e0dc-40b5-4d93-ba14-8147c1405085"
      },
      "execution_count": 11,
      "outputs": [
        {
          "output_type": "execute_result",
          "data": {
            "text/plain": [
              "3.4"
            ]
          },
          "metadata": {},
          "execution_count": 11
        }
      ]
    },
    {
      "cell_type": "code",
      "source": [
        "import numpy as np\n",
        "import sys\n"
      ],
      "metadata": {
        "id": "g4h-zjmtUNHe"
      },
      "execution_count": 12,
      "outputs": []
    },
    {
      "cell_type": "code",
      "source": [
        "array = np.array([1,2,3,4])\n",
        "for num in array:\n",
        "  print(num)"
      ],
      "metadata": {
        "colab": {
          "base_uri": "https://localhost:8080/"
        },
        "id": "n_t6qAS3UPJQ",
        "outputId": "c628bc93-d9a8-4335-f274-248837a80bef"
      },
      "execution_count": 13,
      "outputs": [
        {
          "output_type": "stream",
          "name": "stdout",
          "text": [
            "1\n",
            "2\n",
            "3\n",
            "4\n"
          ]
        }
      ]
    },
    {
      "cell_type": "code",
      "source": [
        "b = np.array([[1,2,3],[2,3,4]], dtype='int32')\n",
        "for arr in b:\n",
        "  for num in arr:\n",
        "    if num%2==0:\n",
        "      print(num)"
      ],
      "metadata": {
        "colab": {
          "base_uri": "https://localhost:8080/"
        },
        "id": "OAlIeFoFYW0V",
        "outputId": "7935b852-f036-4b9d-f8a8-f71730e7a58c"
      },
      "execution_count": 14,
      "outputs": [
        {
          "output_type": "stream",
          "name": "stdout",
          "text": [
            "2\n",
            "2\n",
            "4\n"
          ]
        }
      ]
    },
    {
      "cell_type": "code",
      "source": [
        "print(f'Dimension: {b.ndim}, Shape: {b.shape}, Size: {b.size}, Type: {b.dtype}, Itemsize: {b.itemsize}, Number of bytes: {b.nbytes}')"
      ],
      "metadata": {
        "colab": {
          "base_uri": "https://localhost:8080/"
        },
        "id": "9ZQ1-6YEYvjO",
        "outputId": "a83ccedc-8071-449f-c97d-8f94bce473ec"
      },
      "execution_count": 15,
      "outputs": [
        {
          "output_type": "stream",
          "name": "stdout",
          "text": [
            "Dimension: 2, Shape: (2, 3), Size: 6, Type: int32, Itemsize: 4, Number of bytes: 24\n"
          ]
        }
      ]
    },
    {
      "cell_type": "code",
      "source": [
        "c = np.array([[1,2,3,4,5,6],[7,8,9,10,11,12]])\n",
        "c[0:1]"
      ],
      "metadata": {
        "colab": {
          "base_uri": "https://localhost:8080/"
        },
        "id": "vaLwfe7VwWfj",
        "outputId": "1d8000e3-c58f-4284-f0f1-9f9d752fc4c4"
      },
      "execution_count": 32,
      "outputs": [
        {
          "output_type": "execute_result",
          "data": {
            "text/plain": [
              "array([[1, 2, 3, 4, 5, 6]])"
            ]
          },
          "metadata": {},
          "execution_count": 32
        }
      ]
    },
    {
      "cell_type": "code",
      "source": [
        "c[0, :]"
      ],
      "metadata": {
        "colab": {
          "base_uri": "https://localhost:8080/"
        },
        "id": "AAR20IF2xDSb",
        "outputId": "8021244f-d1da-4ec8-8892-064f04817235"
      },
      "execution_count": 34,
      "outputs": [
        {
          "output_type": "execute_result",
          "data": {
            "text/plain": [
              "array([1, 2, 3, 4, 5, 6])"
            ]
          },
          "metadata": {},
          "execution_count": 34
        }
      ]
    },
    {
      "cell_type": "code",
      "source": [
        "c[:,2]"
      ],
      "metadata": {
        "colab": {
          "base_uri": "https://localhost:8080/"
        },
        "id": "sG1XjZN_xHRU",
        "outputId": "2f7b3e95-3392-48e7-8afa-22ff72ed38d2"
      },
      "execution_count": 38,
      "outputs": [
        {
          "output_type": "execute_result",
          "data": {
            "text/plain": [
              "array([3, 9])"
            ]
          },
          "metadata": {},
          "execution_count": 38
        }
      ]
    },
    {
      "cell_type": "code",
      "source": [
        "c[1, 2:7:1]"
      ],
      "metadata": {
        "colab": {
          "base_uri": "https://localhost:8080/"
        },
        "id": "0CuyvuJOxgFb",
        "outputId": "b146686a-1c2d-41f5-b75c-9b558730e667"
      },
      "execution_count": 43,
      "outputs": [
        {
          "output_type": "execute_result",
          "data": {
            "text/plain": [
              "array([ 9, 10, 11, 12])"
            ]
          },
          "metadata": {},
          "execution_count": 43
        }
      ]
    },
    {
      "cell_type": "code",
      "source": [
        "c[1,3] = 19\n",
        "c"
      ],
      "metadata": {
        "colab": {
          "base_uri": "https://localhost:8080/"
        },
        "id": "N9GbppjuyBUE",
        "outputId": "fa68e365-5799-470e-a732-95490385f04e"
      },
      "execution_count": 52,
      "outputs": [
        {
          "output_type": "execute_result",
          "data": {
            "text/plain": [
              "array([[ 1,  2,  3,  4,  5,  6],\n",
              "       [ 7,  8,  9, 19, 11, 12]])"
            ]
          },
          "metadata": {},
          "execution_count": 52
        }
      ]
    },
    {
      "cell_type": "code",
      "source": [
        "c[:,3] = 32, 23\n",
        "c"
      ],
      "metadata": {
        "colab": {
          "base_uri": "https://localhost:8080/"
        },
        "id": "LzwNex7hyRU0",
        "outputId": "f4127117-08a9-426f-ae2c-de6c78050f02"
      },
      "execution_count": 61,
      "outputs": [
        {
          "output_type": "execute_result",
          "data": {
            "text/plain": [
              "array([[ 1,  2,  3, 32,  5,  6],\n",
              "       [ 7,  8,  9, 23, 11, 12]])"
            ]
          },
          "metadata": {},
          "execution_count": 61
        }
      ]
    },
    {
      "cell_type": "code",
      "source": [
        "d = np.array([[1,2],[3,4],[5,6],[7,8],[9,10]])"
      ],
      "metadata": {
        "id": "2buR6TDcykBk"
      },
      "execution_count": 63,
      "outputs": []
    },
    {
      "cell_type": "code",
      "source": [
        "d[0:2]"
      ],
      "metadata": {
        "colab": {
          "base_uri": "https://localhost:8080/"
        },
        "id": "haNxvolkysCE",
        "outputId": "c4303346-4af6-4a4b-ce4b-2602883a1bc2"
      },
      "execution_count": 73,
      "outputs": [
        {
          "output_type": "execute_result",
          "data": {
            "text/plain": [
              "array([[1, 2],\n",
              "       [3, 4]])"
            ]
          },
          "metadata": {},
          "execution_count": 73
        }
      ]
    },
    {
      "cell_type": "code",
      "source": [
        "e = d = np.array([[[1,2],[3,4]],[[5,6],[7,8]],[[9,10],[11,12]]])\n",
        "e[:,1,0]"
      ],
      "metadata": {
        "colab": {
          "base_uri": "https://localhost:8080/"
        },
        "id": "bid8y_vnzFB0",
        "outputId": "77db179e-dc6d-45b9-b745-33d4c5c64259"
      },
      "execution_count": 90,
      "outputs": [
        {
          "output_type": "execute_result",
          "data": {
            "text/plain": [
              "array([ 3,  7, 11])"
            ]
          },
          "metadata": {},
          "execution_count": 90
        }
      ]
    }
  ]
}